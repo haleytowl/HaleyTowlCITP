{
 "cells": [
  {
   "cell_type": "code",
   "execution_count": 1,
   "id": "3a4d45dd",
   "metadata": {},
   "outputs": [
    {
     "name": "stdout",
     "output_type": "stream",
     "text": [
      "Hello.\n"
     ]
    }
   ],
   "source": [
    "print(\"Hello.\")"
   ]
  },
  {
   "cell_type": "code",
   "execution_count": 1,
   "id": "b1638372",
   "metadata": {},
   "outputs": [
    {
     "ename": "SyntaxError",
     "evalue": "unterminated string literal (detected at line 1) (2157058880.py, line 1)",
     "output_type": "error",
     "traceback": [
      "\u001b[0;36m  Cell \u001b[0;32mIn[1], line 1\u001b[0;36m\u001b[0m\n\u001b[0;31m    print('This is a test of Python interpreter.)\u001b[0m\n\u001b[0m          ^\u001b[0m\n\u001b[0;31mSyntaxError\u001b[0m\u001b[0;31m:\u001b[0m unterminated string literal (detected at line 1)\n"
     ]
    }
   ],
   "source": [
    "print('This is a test of Python interpreter.)"
   ]
  },
  {
   "cell_type": "code",
   "execution_count": 2,
   "id": "8da003f6",
   "metadata": {},
   "outputs": [
    {
     "name": "stdout",
     "output_type": "stream",
     "text": [
      "This is a test of Python interpreter.\n"
     ]
    }
   ],
   "source": [
    "Excersize #1\n",
    "# demonstrating the print function\n",
    "print('This is a test of Python interpreter.')"
   ]
  },
  {
   "cell_type": "code",
   "execution_count": 3,
   "id": "c6c8cc59",
   "metadata": {
    "scrolled": true
   },
   "outputs": [
    {
     "name": "stdout",
     "output_type": "stream",
     "text": [
      "This might work: 9\n"
     ]
    }
   ],
   "source": [
    "print('This might work:', 9)"
   ]
  },
  {
   "cell_type": "code",
   "execution_count": null,
   "id": "c85f7a6a",
   "metadata": {},
   "outputs": [],
   "source": [
    "Excersize #3\n",
    "# converting decimal numbers to binary\n",
    "1011\n",
    "1000001\n",
    "1100100\n",
    "11111111"
   ]
  },
  {
   "cell_type": "code",
   "execution_count": null,
   "id": "8e6e54d6",
   "metadata": {},
   "outputs": [],
   "source": [
    "Excersize #4\n",
    "# converting binary numbers to decimal\n",
    "13\n",
    "8\n",
    "43"
   ]
  }
 ],
 "metadata": {
  "kernelspec": {
   "display_name": "Python 3 (ipykernel)",
   "language": "python",
   "name": "python3"
  },
  "language_info": {
   "codemirror_mode": {
    "name": "ipython",
    "version": 3
   },
   "file_extension": ".py",
   "mimetype": "text/x-python",
   "name": "python",
   "nbconvert_exporter": "python",
   "pygments_lexer": "ipython3",
   "version": "3.11.5"
  }
 },
 "nbformat": 4,
 "nbformat_minor": 5
}
