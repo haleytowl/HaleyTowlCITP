{
 "cells": [
  {
   "cell_type": "markdown",
   "id": "e6c052e3",
   "metadata": {},
   "source": [
    "# #1"
   ]
  },
  {
   "cell_type": "markdown",
   "id": "fa194b38",
   "metadata": {},
   "source": [
    "In this problem I had to wrtie a loop. I had to set boundaries defining that the product would be less than 100. I asked for an input and set the code to multiply it by 10."
   ]
  },
  {
   "cell_type": "code",
   "execution_count": 1,
   "id": "c4a9f0d5",
   "metadata": {},
   "outputs": [
    {
     "name": "stdout",
     "output_type": "stream",
     "text": [
      "Input a number 104\n"
     ]
    }
   ],
   "source": [
    "product  = 0\n",
    "while product < 100:\n",
    "    mult  = int(input(\"Input a number \"))\n",
    "    product = mult * 10"
   ]
  },
  {
   "cell_type": "markdown",
   "id": "a23ddf2a",
   "metadata": {},
   "source": [
    "# #4"
   ]
  },
  {
   "cell_type": "markdown",
   "id": "c7853d99",
   "metadata": {},
   "source": [
    "For this problem I made a loop that asks the user to enter a number. I made the code take 10 numbers with the \"in range\" and had it give a total by adding the inputs."
   ]
  },
  {
   "cell_type": "code",
   "execution_count": 2,
   "id": "c82a4e2a",
   "metadata": {},
   "outputs": [
    {
     "name": "stdout",
     "output_type": "stream",
     "text": [
      "Input a number 234\n",
      "Input a number 2345\n",
      "Input a number 234\n",
      "Input a number 532\n",
      "Input a number 645\n",
      "Input a number 546\n",
      "Input a number 56\n",
      "Input a number 544\n",
      "Input a number 56\n",
      "Input a number 56\n",
      "5248\n"
     ]
    }
   ],
   "source": [
    "total = 0\n",
    "\n",
    "for num in range(10):\n",
    "    add = int(input(\"Input a number \"))\n",
    "    total += add\n",
    "print(total)"
   ]
  },
  {
   "cell_type": "markdown",
   "id": "a042576d",
   "metadata": {},
   "source": [
    "# Ex 1"
   ]
  },
  {
   "cell_type": "markdown",
   "id": "ef209a85",
   "metadata": {},
   "source": [
    "For this problem I coded it to ask for how many bugs 5 times. Then I had it add together the inputs and give back the total amount of bugs using the print feature."
   ]
  },
  {
   "cell_type": "code",
   "execution_count": 3,
   "id": "a4097bab",
   "metadata": {},
   "outputs": [
    {
     "name": "stdout",
     "output_type": "stream",
     "text": [
      "How many bugs? 546\n",
      "How many bugs? 75\n",
      "How many bugs? 87\n",
      "How many bugs? 89\n",
      "How many bugs? 356\n",
      "You have 1153 bugs!\n"
     ]
    }
   ],
   "source": [
    "bugs = 0\n",
    "for num in range(5):\n",
    "    today = int(input(\"How many bugs? \"))\n",
    "    bugs += today\n",
    "    \n",
    "    \n",
    "print(\"You have\", bugs, \"bugs!\")"
   ]
  },
  {
   "cell_type": "markdown",
   "id": "bc045f2a",
   "metadata": {},
   "source": [
    "# Ex 4"
   ]
  },
  {
   "cell_type": "markdown",
   "id": "b2689a13",
   "metadata": {},
   "source": [
    "In this problem I had the code ask user how many hours they traveled and and what was their speed in mph. I used the print function to have  the program display final result of the hours multiplied by the speed."
   ]
  },
  {
   "cell_type": "code",
   "execution_count": 4,
   "id": "4c54e82d",
   "metadata": {},
   "outputs": [
    {
     "name": "stdout",
     "output_type": "stream",
     "text": [
      "How many hours did you travel 5\n",
      "Whats your speed in mph 67\n",
      "1         67\n",
      "2         134\n",
      "3         201\n",
      "4         268\n",
      "5         335\n"
     ]
    }
   ],
   "source": [
    "time = int(input(\"How many hours did you travel \")) +1\n",
    "mph = int(input(\"Whats your speed in mph \"))\n",
    "for num in range(time - 1):\n",
    "    \n",
    "    print(num +1, \"       \", mph*(num+1))"
   ]
  },
  {
   "cell_type": "code",
   "execution_count": null,
   "id": "2626af6f",
   "metadata": {},
   "outputs": [],
   "source": []
  },
  {
   "cell_type": "code",
   "execution_count": null,
   "id": "25997e86",
   "metadata": {},
   "outputs": [],
   "source": []
  }
 ],
 "metadata": {
  "kernelspec": {
   "display_name": "Python 3 (ipykernel)",
   "language": "python",
   "name": "python3"
  },
  "language_info": {
   "codemirror_mode": {
    "name": "ipython",
    "version": 3
   },
   "file_extension": ".py",
   "mimetype": "text/x-python",
   "name": "python",
   "nbconvert_exporter": "python",
   "pygments_lexer": "ipython3",
   "version": "3.11.5"
  }
 },
 "nbformat": 4,
 "nbformat_minor": 5
}
