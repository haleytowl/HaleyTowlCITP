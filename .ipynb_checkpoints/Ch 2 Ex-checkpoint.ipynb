{
 "cells": [
  {
   "cell_type": "markdown",
   "id": "b5f1dca3",
   "metadata": {},
   "source": [
    "# Chapter 2 Exercises\n"
   ]
  },
  {
   "cell_type": "markdown",
   "id": "63354521",
   "metadata": {},
   "source": [
    "## Algorithim Workbench 12\n",
    "\n",
    "Presented with the print function and asked to predict what the output will be."
   ]
  },
  {
   "cell_type": "code",
   "execution_count": null,
   "id": "45e08483",
   "metadata": {},
   "outputs": [],
   "source": [
    "print('George', 'John', 'Paul', 'Ringo', sep='@')"
   ]
  },
  {
   "cell_type": "markdown",
   "id": "aa836efe",
   "metadata": {},
   "source": [
    "prediction output string: \"George@Jonn@Paul@Ringo\""
   ]
  },
  {
   "cell_type": "code",
   "execution_count": null,
   "id": "4f91c006",
   "metadata": {},
   "outputs": [],
   "source": []
  }
 ],
 "metadata": {
  "kernelspec": {
   "display_name": "Python 3 (ipykernel)",
   "language": "python",
   "name": "python3"
  },
  "language_info": {
   "codemirror_mode": {
    "name": "ipython",
    "version": 3
   },
   "file_extension": ".py",
   "mimetype": "text/x-python",
   "name": "python",
   "nbconvert_exporter": "python",
   "pygments_lexer": "ipython3",
   "version": "3.11.5"
  }
 },
 "nbformat": 4,
 "nbformat_minor": 5
}
