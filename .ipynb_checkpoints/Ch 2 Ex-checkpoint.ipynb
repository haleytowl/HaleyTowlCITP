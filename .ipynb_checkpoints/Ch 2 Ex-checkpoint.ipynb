{
 "cells": [
  {
   "cell_type": "markdown",
   "id": "b5f1dca3",
   "metadata": {},
   "source": [
    "# Chapter 2 Exercises\n"
   ]
  },
  {
   "cell_type": "markdown",
   "id": "63354521",
   "metadata": {},
   "source": [
    "## Algorithim Workbench 12\n",
    "\n",
    "Presented with the print function and asked to predict what the output will be."
   ]
  },
  {
   "cell_type": "code",
   "execution_count": 1,
   "id": "45e08483",
   "metadata": {},
   "outputs": [
    {
     "name": "stdout",
     "output_type": "stream",
     "text": [
      "George@John@Paul@Ringo\n"
     ]
    }
   ],
   "source": [
    "print('George', 'John', 'Paul', 'Ringo', sep='@')"
   ]
  },
  {
   "cell_type": "markdown",
   "id": "983673b3",
   "metadata": {},
   "source": [
    "prediction output string: \"George@Jonn@Paul@Ringo\"\n",
    "\n",
    "The print function a varying number of argumetns and it allowes us to set the seperater. The sep. defaults to a single space. In this problem sep. has been set to the '@'."
   ]
  },
  {
   "cell_type": "markdown",
   "id": "e748874a",
   "metadata": {},
   "source": [
    "# Ex 13"
   ]
  },
  {
   "cell_type": "markdown",
   "id": "b0aa3787",
   "metadata": {},
   "source": [
    "We are practicing many skills in this problem: naming our variables, how to code to get an input from a user, using equations in code, ect."
   ]
  },
  {
   "cell_type": "code",
   "execution_count": 2,
   "id": "f687188b",
   "metadata": {
    "scrolled": false
   },
   "outputs": [
    {
     "name": "stdout",
     "output_type": "stream",
     "text": [
      "Enter the length of the vineyard in feet:\n",
      "3\n",
      "Enter the length of the end-post in feet:\n",
      "4\n",
      "Enter how much space between vines in feet:\n",
      "5\n",
      "Number of grapevines that will fit in a row =  -1.0\n"
     ]
    }
   ],
   "source": [
    "# get the length of the row in feet\n",
    "# lets tell the user what we expect\n",
    "print (\"Enter the length of the vineyard in feet:\")\n",
    "# wait for input from the user for the value of length\n",
    "R = int(input())\n",
    "# get the length of the end-post in feet\n",
    "# lets tell the user what we expect\n",
    "print (\"Enter the length of the end-post in feet:\")\n",
    "# wait for input from the user for the value of length\n",
    "E = int(input())\n",
    "# get the length of the row in feet\n",
    "# lets tell the user what we expect\n",
    "print (\"Enter how much space between vines in feet:\")\n",
    "# wait for input from the user for the value of length\n",
    "S = int(input())\n",
    "# solve the following equation\n",
    "V = (R - 2 * E) / S\n",
    "print (\"Number of grapevines that will fit in a row = \", V)"
   ]
  },
  {
   "cell_type": "markdown",
   "id": "9a5d7636",
   "metadata": {},
   "source": [
    "# Ex 1"
   ]
  },
  {
   "cell_type": "markdown",
   "id": "fa61f2a8",
   "metadata": {},
   "source": [
    "We are practicing how to write code to display information to someone by introducing oursleves with this false identity."
   ]
  },
  {
   "cell_type": "code",
   "execution_count": 3,
   "id": "06258b37",
   "metadata": {},
   "outputs": [
    {
     "name": "stdout",
     "output_type": "stream",
     "text": [
      "Cameron Calero\n",
      "2045 Heliport Loop\n",
      "Riverfolk, IN 43286\n",
      "812-555-1212\n"
     ]
    }
   ],
   "source": [
    "print ('Cameron Calero')\n",
    "print ('2045 Heliport Loop')\n",
    "print ('Riverfolk, IN 43286')\n",
    "print ('812-555-1212')"
   ]
  },
  {
   "cell_type": "code",
   "execution_count": null,
   "id": "e3df8d38",
   "metadata": {},
   "outputs": [],
   "source": []
  }
 ],
 "metadata": {
  "kernelspec": {
   "display_name": "Python 3 (ipykernel)",
   "language": "python",
   "name": "python3"
  },
  "language_info": {
   "codemirror_mode": {
    "name": "ipython",
    "version": 3
   },
   "file_extension": ".py",
   "mimetype": "text/x-python",
   "name": "python",
   "nbconvert_exporter": "python",
   "pygments_lexer": "ipython3",
   "version": "3.11.5"
  }
 },
 "nbformat": 4,
 "nbformat_minor": 5
}
