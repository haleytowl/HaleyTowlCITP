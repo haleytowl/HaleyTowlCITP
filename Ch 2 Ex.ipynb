{
 "cells": [
  {
   "cell_type": "markdown",
   "id": "b5f1dca3",
   "metadata": {},
   "source": [
    "# Chapter 2 Exercises\n"
   ]
  },
  {
   "cell_type": "markdown",
   "id": "63354521",
   "metadata": {},
   "source": [
    "## Algorithim Workbench 12\n",
    "\n",
    "Presented with the print function and asked to predict what the output will be."
   ]
  },
  {
   "cell_type": "code",
   "execution_count": 1,
   "id": "45e08483",
   "metadata": {},
   "outputs": [
    {
     "name": "stdout",
     "output_type": "stream",
     "text": [
      "George@John@Paul@Ringo\n"
     ]
    }
   ],
   "source": [
    "print('George', 'John', 'Paul', 'Ringo', sep='@')"
   ]
  },
  {
   "cell_type": "markdown",
   "id": "c688242f",
   "metadata": {},
   "source": [
    "prediction output string: \"George@Jonn@Paul@Ringo\"\n",
    "\n",
    "The print function a varying number of argumetns and it allowes us to set the seperater. The sep. defaults to a single space. In this problem sep. has been set to the '@'."
   ]
  },
  {
   "cell_type": "code",
   "execution_count": null,
   "id": "a52a9c9e",
   "metadata": {},
   "outputs": [],
   "source": [
    "# get the length of the row in feet\n",
    "# lets tell the user what we expect\n",
    "print(\"Please enter the length of the vineyard in feet:\")\n",
    "# wait for input from the user for the value of length\n",
    "length = input()"
   ]
  }
 ],
 "metadata": {
  "kernelspec": {
   "display_name": "Python 3 (ipykernel)",
   "language": "python",
   "name": "python3"
  },
  "language_info": {
   "codemirror_mode": {
    "name": "ipython",
    "version": 3
   },
   "file_extension": ".py",
   "mimetype": "text/x-python",
   "name": "python",
   "nbconvert_exporter": "python",
   "pygments_lexer": "ipython3",
   "version": "3.11.5"
  }
 },
 "nbformat": 4,
 "nbformat_minor": 5
}
