{
 "cells": [
  {
   "cell_type": "markdown",
   "id": "b5f1dca3",
   "metadata": {},
   "source": [
    "# Chapter 2 Exercises\n"
   ]
  },
  {
   "cell_type": "markdown",
   "id": "63354521",
   "metadata": {},
   "source": [
    "## Algorithim Workbench 12\n",
    "\n",
    "Presented with the print function and asked to predict what the output will be."
   ]
  },
  {
   "cell_type": "code",
   "execution_count": 1,
   "id": "45e08483",
   "metadata": {},
   "outputs": [
    {
     "name": "stdout",
     "output_type": "stream",
     "text": [
      "George@John@Paul@Ringo\n"
     ]
    }
   ],
   "source": [
    "print('George', 'John', 'Paul', 'Ringo', sep='@')"
   ]
  },
  {
   "cell_type": "markdown",
   "id": "983673b3",
   "metadata": {},
   "source": [
    "prediction output string: \"George@Jonn@Paul@Ringo\"\n",
    "\n",
    "The print function a varying number of argumetns and it allowes us to set the seperater. The sep. defaults to a single space. In this problem sep. has been set to the '@'."
   ]
  },
  {
   "cell_type": "markdown",
   "id": "e748874a",
   "metadata": {},
   "source": [
    "# Ex 13"
   ]
  },
  {
   "cell_type": "code",
   "execution_count": 2,
   "id": "f687188b",
   "metadata": {
    "scrolled": true
   },
   "outputs": [
    {
     "name": "stdout",
     "output_type": "stream",
     "text": [
      "Please enter the length of the vineyard in feet:\n"
     ]
    },
    {
     "ename": "TypeError",
     "evalue": "float() argument must be a string or a real number, not 'NoneType'",
     "output_type": "error",
     "traceback": [
      "\u001b[0;31m---------------------------------------------------------------------------\u001b[0m",
      "\u001b[0;31mTypeError\u001b[0m                                 Traceback (most recent call last)",
      "Cell \u001b[0;32mIn[2], line 3\u001b[0m\n\u001b[1;32m      1\u001b[0m \u001b[38;5;66;03m# get the length of the row in feet\u001b[39;00m\n\u001b[1;32m      2\u001b[0m \u001b[38;5;66;03m# lets tell the user what we expect\u001b[39;00m\n\u001b[0;32m----> 3\u001b[0m R \u001b[38;5;241m=\u001b[39m \u001b[38;5;28mfloat\u001b[39m( \u001b[38;5;28mprint\u001b[39m(\u001b[38;5;124m\"\u001b[39m\u001b[38;5;124mPlease enter the length of the vineyard in feet:\u001b[39m\u001b[38;5;124m\"\u001b[39m))\n\u001b[1;32m      4\u001b[0m \u001b[38;5;66;03m# wait for input from the user for the value of length\u001b[39;00m\n\u001b[1;32m      5\u001b[0m length \u001b[38;5;241m=\u001b[39m \u001b[38;5;28minput\u001b[39m()\n",
      "\u001b[0;31mTypeError\u001b[0m: float() argument must be a string or a real number, not 'NoneType'"
     ]
    }
   ],
   "source": [
    "# get the length of the row in feet\n",
    "# lets tell the user what we expect\n",
    "R = float( print(\"Please enter the length of the vineyard in feet:\"))\n",
    "# wait for input from the user for the value of length\n",
    "length = input()\n",
    "# get the length of the end-post in feet\n",
    "# lets tell the user what we expect\n",
    "E = float( print(\"Enter the length of the end-post in feet:\"))\n",
    "# wait for input from the user for the value of length\n",
    "length = input()\n",
    "# get the length of the row in feet\n",
    "# lets tell the user what we expect\n",
    "S = float( print(\"Enter how much space between vines in feet:\"))\n",
    "# wait for input from the user for the value of length\n",
    "length = input()\n",
    "V = (R - (2*E)) / S\n",
    "print(\"Number of grapevines that will fit in a row = \", V)"
   ]
  },
  {
   "cell_type": "markdown",
   "id": "a95dbd13",
   "metadata": {},
   "source": []
  },
  {
   "cell_type": "code",
   "execution_count": null,
   "id": "1c575ecc",
   "metadata": {},
   "outputs": [],
   "source": []
  },
  {
   "cell_type": "code",
   "execution_count": null,
   "id": "d61d8aa2",
   "metadata": {},
   "outputs": [],
   "source": []
  }
 ],
 "metadata": {
  "kernelspec": {
   "display_name": "Python 3 (ipykernel)",
   "language": "python",
   "name": "python3"
  },
  "language_info": {
   "codemirror_mode": {
    "name": "ipython",
    "version": 3
   },
   "file_extension": ".py",
   "mimetype": "text/x-python",
   "name": "python",
   "nbconvert_exporter": "python",
   "pygments_lexer": "ipython3",
   "version": "3.11.5"
  }
 },
 "nbformat": 4,
 "nbformat_minor": 5
}
