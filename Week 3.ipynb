{
 "cells": [
  {
   "cell_type": "markdown",
   "id": "6550a2b1",
   "metadata": {},
   "source": [
    "# Workbench #4"
   ]
  },
  {
   "cell_type": "markdown",
   "id": "3ff8e825",
   "metadata": {},
   "source": [
    "We are correcting errors within if else statements."
   ]
  },
  {
   "cell_type": "code",
   "execution_count": 1,
   "id": "2d604ebc",
   "metadata": {},
   "outputs": [
    {
     "name": "stdout",
     "output_type": "stream",
     "text": [
      "Enter your score: 21\n",
      "Your grade is F.\n"
     ]
    }
   ],
   "source": [
    "# Define the scores\n",
    "A_score = 90\n",
    "B_score = 80\n",
    "C_score = 70\n",
    "D_score = 60\n",
    "\n",
    "# Get the user's score\n",
    "score = float(input(\"Enter your score: \"))\n",
    "\n",
    "# Check the grade\n",
    "if score >= A_score:\n",
    "    print('Your grade is A.')\n",
    "else:\n",
    "    if score >= B_score:\n",
    "        print('Your grade is B.')\n",
    "    else:\n",
    "        if score >= C_score:\n",
    "            print('Your grade is C.')\n",
    "        else:\n",
    "            if score >= D_score:\n",
    "                print('Your grade is D.')\n",
    "            else:\n",
    "                print('Your grade is F.')"
   ]
  },
  {
   "cell_type": "markdown",
   "id": "6b76d0c8",
   "metadata": {},
   "source": [
    "# Workbench #5"
   ]
  },
  {
   "cell_type": "markdown",
   "id": "61e6079a",
   "metadata": {},
   "source": [
    "We are writing nested decision structures and displaying only one of two data pieces."
   ]
  },
  {
   "cell_type": "code",
   "execution_count": 2,
   "id": "06a18ccb",
   "metadata": {},
   "outputs": [
    {
     "name": "stdout",
     "output_type": "stream",
     "text": [
      "Enter amount 1: 21\n",
      "Enter amount 2: 50\n",
      "The greater amount is: 50.0\n"
     ]
    }
   ],
   "source": [
    "amount1 = float(input(\"Enter amount 1: \"))\n",
    "amount2 = float(input(\"Enter amount 2: \"))\n",
    "\n",
    "if amount1 > 10:\n",
    "    if amount2 < 100:\n",
    "        if amount1 > amount2:\n",
    "            print(\"The greater amount is:\", amount1)\n",
    "        else:\n",
    "            print(\"The greater amount is:\", amount2)\n",
    "    else:\n",
    "        print(\"Amount 2 is not less than 100.\")\n",
    "else:\n",
    "    print(\"Amount 1 is not greater than 10.\")"
   ]
  },
  {
   "cell_type": "markdown",
   "id": "c77093f9",
   "metadata": {},
   "source": [
    "# Ex #1"
   ]
  },
  {
   "cell_type": "code",
   "execution_count": 3,
   "id": "a24d954d",
   "metadata": {},
   "outputs": [
    {
     "name": "stdout",
     "output_type": "stream",
     "text": [
      "Enter a number between 1 and 7: 3\n",
      "Wednesday\n"
     ]
    }
   ],
   "source": [
    "# Ask the user for input\n",
    "user_input = int(input(\"Enter a number between 1 and 7: \"))\n",
    "\n",
    "# Check if the input is within the range\n",
    "if user_input >= 1 and user_input <= 7:\n",
    "    # Map the input number to the corresponding day\n",
    "    if user_input == 1:\n",
    "        print(\"Monday\")\n",
    "    elif user_input == 2:\n",
    "        print(\"Tuesday\")\n",
    "    elif user_input == 3:\n",
    "        print(\"Wednesday\")\n",
    "    elif user_input == 4:\n",
    "        print(\"Thursday\")\n",
    "    elif user_input == 5:\n",
    "        print(\"Friday\")\n",
    "    elif user_input == 6:\n",
    "        print(\"Saturday\")\n",
    "    elif user_input == 7:\n",
    "        print(\"Sunday\")\n",
    "else:\n",
    "    # Display an error message if the input is outside the range\n",
    "    print(\"Error: Please enter a number between 1 and 7.\")"
   ]
  },
  {
   "cell_type": "markdown",
   "id": "57bd047a",
   "metadata": {},
   "source": [
    "# Ex #5"
   ]
  },
  {
   "cell_type": "code",
   "execution_count": 4,
   "id": "ed89268f",
   "metadata": {},
   "outputs": [
    {
     "name": "stdout",
     "output_type": "stream",
     "text": [
      "Enter the mass of the object in kilograms: 34\n",
      "The weight of the object is: 333.20000000000005 newtons\n"
     ]
    }
   ],
   "source": [
    "# Function to calculate weight based on mass\n",
    "def calculate_weight(mass):\n",
    "    return mass * 9.8\n",
    "\n",
    "# Main function\n",
    "def main():\n",
    "    # Get the mass of the object from the user\n",
    "    mass_kg = float(input(\"Enter the mass of the object in kilograms: \"))\n",
    "    \n",
    "    # Calculate the weight in newtons\n",
    "    weight_newtons = calculate_weight(mass_kg)\n",
    "    \n",
    "    # Display the weight\n",
    "    print(\"The weight of the object is:\", weight_newtons, \"newtons\")\n",
    "    \n",
    "    # Check if the weight is too heavy or too light\n",
    "    if weight_newtons > 500:\n",
    "        print(\"The object is too heavy.\")\n",
    "    elif weight_newtons < 100:\n",
    "        print(\"The object is too light.\")\n",
    "\n",
    "# Call the main function to execute the program\n",
    "if __name__ == \"__main__\":\n",
    "    main()"
   ]
  },
  {
   "cell_type": "markdown",
   "id": "8062f7d3",
   "metadata": {},
   "source": [
    "# Ex #15"
   ]
  },
  {
   "cell_type": "code",
   "execution_count": 5,
   "id": "1623775f",
   "metadata": {},
   "outputs": [
    {
     "name": "stdout",
     "output_type": "stream",
     "text": [
      "Enter a year: 2003\n",
      "In the year 2003 , February has 28 days.\n"
     ]
    }
   ],
   "source": [
    "# Function to determine if the year is a leap year\n",
    "def is_leap_year(year):\n",
    "    if year % 100 == 0:\n",
    "        return year % 400 == 0\n",
    "    else:\n",
    "        return year % 4 == 0\n",
    "\n",
    "# Main function\n",
    "def main():\n",
    "    # Get the year from the user\n",
    "    year = int(input(\"Enter a year: \"))\n",
    "    \n",
    "    # Determine if it's a leap year\n",
    "    if is_leap_year(year):\n",
    "        days_in_february = 29\n",
    "    else:\n",
    "        days_in_february = 28\n",
    "    \n",
    "    # Display the result\n",
    "    print(\"In the year\", year, \", February has\", days_in_february, \"days.\")\n",
    "\n",
    "# Call the main function to execute the program\n",
    "if __name__ == \"__main__\":\n",
    "    main()"
   ]
  },
  {
   "cell_type": "markdown",
   "id": "4d21ab6a",
   "metadata": {},
   "source": [
    "# Ex #16"
   ]
  },
  {
   "cell_type": "code",
   "execution_count": 7,
   "id": "a8779b25",
   "metadata": {
    "scrolled": true
   },
   "outputs": [
    {
     "name": "stdout",
     "output_type": "stream",
     "text": [
      "Welcome to Wi-Fi troubleshooting program.\n",
      "Let's diagnose and fix your bad Wi-Fi connection.\n",
      "\n",
      "Step 1: Reboot your computer and try to connect.\n",
      "Did that fix the problem? (yes/no): no\n",
      "\n",
      "Step 2: Reboot your router and try to connect.\n",
      "Did that fix the problem? (yes/no): no\n",
      "\n",
      "Step 3: Make sure the cables between the router and modem are plugged in firmly.\n",
      "Did that fix the problem? (yes/no): no\n",
      "\n",
      "Step 4: Move the router to a different location.\n",
      "Did that fix the problem? (yes/no): no\n",
      "\n",
      "Step 5: Get a new router.\n",
      "Your Wi-Fi connection issue is not resolved. Please consider getting a new router.\n"
     ]
    }
   ],
   "source": [
    "def main():\n",
    "    print(\"Welcome to Wi-Fi troubleshooting program.\")\n",
    "    print(\"Let's diagnose and fix your bad Wi-Fi connection.\")\n",
    "\n",
    "    # Step 1\n",
    "    print(\"\\nStep 1: Reboot your computer and try to connect.\")\n",
    "    response = input(\"Did that fix the problem? (yes/no): \")\n",
    "    if response.lower() == \"yes\":\n",
    "        print(\"Congratulations! Your Wi-Fi connection is fixed.\")\n",
    "        return\n",
    "\n",
    "    # Step 2\n",
    "    print(\"\\nStep 2: Reboot your router and try to connect.\")\n",
    "    response = input(\"Did that fix the problem? (yes/no): \")\n",
    "    if response.lower() == \"yes\":\n",
    "        print(\"Congratulations! Your Wi-Fi connection is fixed.\")\n",
    "        return\n",
    "\n",
    "    # Step 3\n",
    "    print(\"\\nStep 3: Make sure the cables between the router and modem are plugged in firmly.\")\n",
    "    response = input(\"Did that fix the problem? (yes/no): \")\n",
    "    if response.lower() == \"yes\":\n",
    "        print(\"Congratulations! Your Wi-Fi connection is fixed.\")\n",
    "        return\n",
    "\n",
    "    # Step 4\n",
    "    print(\"\\nStep 4: Move the router to a different location.\")\n",
    "    response = input(\"Did that fix the problem? (yes/no): \")\n",
    "    if response.lower() == \"yes\":\n",
    "        print(\"Congratulations! Your Wi-Fi connection is fixed.\")\n",
    "        return\n",
    "\n",
    "    # Step 5\n",
    "    print(\"\\nStep 5: Get a new router.\")\n",
    "    print(\"Your Wi-Fi connection issue is not resolved. Please consider getting a new router.\")\n",
    "\n",
    "if __name__ == \"__main__\":\n",
    "    main()"
   ]
  }
 ],
 "metadata": {
  "kernelspec": {
   "display_name": "Python 3 (ipykernel)",
   "language": "python",
   "name": "python3"
  },
  "language_info": {
   "codemirror_mode": {
    "name": "ipython",
    "version": 3
   },
   "file_extension": ".py",
   "mimetype": "text/x-python",
   "name": "python",
   "nbconvert_exporter": "python",
   "pygments_lexer": "ipython3",
   "version": "3.11.5"
  }
 },
 "nbformat": 4,
 "nbformat_minor": 5
}
