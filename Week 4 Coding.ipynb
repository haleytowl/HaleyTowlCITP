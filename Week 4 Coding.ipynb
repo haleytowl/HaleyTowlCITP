{
 "cells": [
  {
   "cell_type": "markdown",
   "id": "e6c052e3",
   "metadata": {},
   "source": [
    "# #1"
   ]
  },
  {
   "cell_type": "markdown",
   "id": "2c836d0e",
   "metadata": {},
   "source": [
    "In this problem I had to wrtie a loop. I had to set boundaries defining that the product would be less than 100. I asked for an input and set the code to multiply it by 10."
   ]
  },
  {
   "cell_type": "code",
   "execution_count": 1,
   "id": "c4a9f0d5",
   "metadata": {},
   "outputs": [
    {
     "name": "stdout",
     "output_type": "stream",
     "text": [
      "Input a number 70\n"
     ]
    }
   ],
   "source": [
    "product  = 0\n",
    "while product < 100: # has to be less than 100\n",
    "    mult  = int(input(\"Input a number \"))\n",
    "    product = mult * 10 #multiplying it by 10"
   ]
  },
  {
   "cell_type": "markdown",
   "id": "9ccb0b86",
   "metadata": {},
   "source": [
    "# #4"
   ]
  },
  {
   "cell_type": "markdown",
   "id": "055a2594",
   "metadata": {},
   "source": [
    "For this problem I made a loop that asks the user to enter a number. I made the code take 10 numbers with the \"in range\" and had it give a total by adding the inputs."
   ]
  },
  {
   "cell_type": "code",
   "execution_count": 2,
   "id": "c82a4e2a",
   "metadata": {},
   "outputs": [
    {
     "name": "stdout",
     "output_type": "stream",
     "text": [
      "Input a number 60\n",
      "Input a number 7\n",
      "Input a number 8\n",
      "Input a number 68\n",
      "Input a number 687\n",
      "Input a number 45\n",
      "Input a number 90\n",
      "Input a number 90\n",
      "Input a number 78\n",
      "Input a number 97\n",
      "1230\n"
     ]
    }
   ],
   "source": [
    "total = 0\n",
    "\n",
    "for num in range(10): #asking for 10 inputs\n",
    "    add = int(input(\"Input a number \"))\n",
    "    total += add\n",
    "print(total)"
   ]
  },
  {
   "cell_type": "markdown",
   "id": "a042576d",
   "metadata": {},
   "source": [
    "# Ex 1"
   ]
  },
  {
   "cell_type": "markdown",
   "id": "06858497",
   "metadata": {},
   "source": [
    "For this problem I coded it to ask for how many bugs 5 times. Then I had it add together the inputs and give back the total amount of bugs using the print feature."
   ]
  },
  {
   "cell_type": "code",
   "execution_count": 3,
   "id": "a4097bab",
   "metadata": {},
   "outputs": [
    {
     "name": "stdout",
     "output_type": "stream",
     "text": [
      "How many bugs? 7\n",
      "How many bugs? 8\n",
      "How many bugs? 70\n",
      "How many bugs? 6\n",
      "How many bugs? 87\n",
      "You have 178 bugs!\n"
     ]
    }
   ],
   "source": [
    "bugs = 0\n",
    "for num in range(5): #asking for 5 inputs\n",
    "    today = int(input(\"How many bugs? \"))\n",
    "    bugs += today\n",
    "    \n",
    "    \n",
    "print(\"You have\", bugs, \"bugs!\")"
   ]
  },
  {
   "cell_type": "markdown",
   "id": "6edb8fae",
   "metadata": {},
   "source": [
    "# Ex 4"
   ]
  },
  {
   "cell_type": "markdown",
   "id": "2f6d4146",
   "metadata": {},
   "source": [
    "In this problem I had the code ask user how many hours they traveled and and what was their speed in mph. I used the print function to have  the program display final result of the hours multiplied by the speed."
   ]
  },
  {
   "cell_type": "code",
   "execution_count": 4,
   "id": "78212467",
   "metadata": {},
   "outputs": [
    {
     "name": "stdout",
     "output_type": "stream",
     "text": [
      "How many hours did you travel 12\n",
      "Whats your speed in mph 45\n",
      "1         45\n",
      "2         90\n",
      "3         135\n",
      "4         180\n",
      "5         225\n",
      "6         270\n",
      "7         315\n",
      "8         360\n",
      "9         405\n",
      "10         450\n",
      "11         495\n",
      "12         540\n"
     ]
    }
   ],
   "source": [
    "time = int(input(\"How many hours did you travel \")) +1 #Asking for input of hours\n",
    "mph = int(input(\"Whats your speed in mph \")) #Asking for an input of speed\n",
    "for num in range(time - 1):\n",
    "    \n",
    "    print(num +1, \"       \", mph*(num+1))"
   ]
  },
  {
   "cell_type": "markdown",
   "id": "7ac88cd9",
   "metadata": {},
   "source": [
    "# Ex 13"
   ]
  },
  {
   "cell_type": "markdown",
   "id": "e9fea2e0",
   "metadata": {},
   "source": [
    "In this exercise I am writing a code that makes an illustration. It is using nested loops."
   ]
  },
  {
   "cell_type": "code",
   "execution_count": 6,
   "id": "1bf5a073",
   "metadata": {},
   "outputs": [
    {
     "name": "stdout",
     "output_type": "stream",
     "text": [
      "*******\n",
      "******\n",
      "*****\n",
      "****\n",
      "***\n",
      "**\n",
      "*\n"
     ]
    }
   ],
   "source": [
    "def draw_pattern():\n",
    "    for i in range(7, 0, -1):  # Start from 7 * and decrease by 1 in each iteration\n",
    "        for j in range(i):  # Iterate over each column in the current row\n",
    "            print(\"*\", end=\"\")\n",
    "        print()  # Move to the next line after printing each row\n",
    "\n",
    "# Call the function to draw the pattern\n",
    "draw_pattern()"
   ]
  },
  {
   "cell_type": "markdown",
   "id": "6a038b1a",
   "metadata": {},
   "source": [
    "# Ex 14"
   ]
  },
  {
   "cell_type": "markdown",
   "id": "07d55c98",
   "metadata": {},
   "source": [
    "For this problem I am doing a similar proccess to the last problem. I am writing a nested loop that will make. a pattern of the # symbol."
   ]
  },
  {
   "cell_type": "code",
   "execution_count": 7,
   "id": "b055dfc1",
   "metadata": {},
   "outputs": [
    {
     "name": "stdout",
     "output_type": "stream",
     "text": [
      "#\n",
      "##\n",
      "# #\n",
      "#  #\n",
      "#   #\n",
      "#    #\n"
     ]
    }
   ],
   "source": [
    "def draw_pattern():\n",
    "    for i in range(1, 7):  # Number of rows\n",
    "        for j in range(i):  # Number of columns\n",
    "            if j == 0 or j == i - 1:\n",
    "                print(\"#\", end=\"\")\n",
    "            else:\n",
    "                print(\" \", end=\"\")\n",
    "        print()  # Move to the next line after printing each row\n",
    "\n",
    "# Calling the function to draw the pattern\n",
    "draw_pattern()"
   ]
  },
  {
   "cell_type": "markdown",
   "id": "29c60936",
   "metadata": {},
   "source": [
    "Had to change this becuase I accidentally made the code to have an extra row with just one #. This has been corrected in the following code:"
   ]
  },
  {
   "cell_type": "code",
   "execution_count": 11,
   "id": "cd10ef8c",
   "metadata": {},
   "outputs": [
    {
     "name": "stdout",
     "output_type": "stream",
     "text": [
      "##\n",
      "# #\n",
      "#  #\n",
      "#   #\n",
      "#    #\n",
      "#     #\n"
     ]
    }
   ],
   "source": [
    "def draw_pattern():\n",
    "    for i in range(2, 8):  # Number of rows (start from 2 to skip the first row)\n",
    "        for j in range(i):  # Number of columns\n",
    "            if j == 0 or j == i - 1:  # If it's the first column or last column\n",
    "                print(\"#\", end=\"\")\n",
    "            else:\n",
    "                print(\" \", end=\"\")\n",
    "        print()  # Move to the next line after printing each row\n",
    "\n",
    "# Call the function to draw the pattern\n",
    "draw_pattern()"
   ]
  },
  {
   "cell_type": "code",
   "execution_count": null,
   "id": "a6b30d1b",
   "metadata": {},
   "outputs": [],
   "source": []
  }
 ],
 "metadata": {
  "kernelspec": {
   "display_name": "Python 3 (ipykernel)",
   "language": "python",
   "name": "python3"
  },
  "language_info": {
   "codemirror_mode": {
    "name": "ipython",
    "version": 3
   },
   "file_extension": ".py",
   "mimetype": "text/x-python",
   "name": "python",
   "nbconvert_exporter": "python",
   "pygments_lexer": "ipython3",
   "version": "3.11.5"
  }
 },
 "nbformat": 4,
 "nbformat_minor": 5
}
